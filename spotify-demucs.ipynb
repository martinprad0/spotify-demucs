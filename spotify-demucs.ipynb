{
 "cells": [
  {
   "cell_type": "code",
   "execution_count": 2,
   "metadata": {},
   "outputs": [],
   "source": [
    "from yt_dlp import YoutubeDL\n",
    "import os\n",
    "import demucs.separate\n",
    "import shlex\n",
    "import pandas as pd\n",
    "from difflib import SequenceMatcher\n",
    "import webbrowser\n",
    "\n",
    "from ytmusicapi import YTMusic\n",
    "import spotipy\n",
    "from spotipy.oauth2 import SpotifyOAuth"
   ]
  },
  {
   "cell_type": "code",
   "execution_count": null,
   "metadata": {},
   "outputs": [],
   "source": [
    "#Get your Client ID and Secret by creating an app:\n",
    "webbrowser.open('https://developer.spotify.com/dashboard')\n",
    "\n",
    "SPOTIPY_CLIENT_ID = ''\n",
    "SPOTIPY_CLIENT_SECRET = ''\n",
    "\n",
    "# # Optional: If you run out of YTMusic API tokens, authenticate again\n",
    "# os.system(\"ytmusicapi oauth\")"
   ]
  },
  {
   "cell_type": "code",
   "execution_count": null,
   "metadata": {},
   "outputs": [],
   "source": [
    "if SPOTIPY_CLIENT_ID == '' or SPOTIPY_CLIENT_SECRET == '':\n",
    "    raise Exception('Need a Client ID and Client Secret to continue')\n",
    "\n",
    "PORT_NUMBER = 8080\n",
    "SPOTIPY_REDIRECT_URI = 'http://localhost:'+str(PORT_NUMBER)\n",
    "SCOPE = 'user-library-read'\n",
    "CACHE = '.spotipyoauthcache'\n",
    "\n",
    "auth_manager = SpotifyOAuth(client_id=SPOTIPY_CLIENT_ID,\n",
    "                             client_secret=SPOTIPY_CLIENT_SECRET,\n",
    "                             redirect_uri=SPOTIPY_REDIRECT_URI,\n",
    "                             scope=SCOPE,\n",
    "                             )\n",
    "\n",
    "yt = YTMusic(\"oauth.json\") if os.path.exists(\"oauth.json\") else YTMusic()\n",
    "sp = spotipy.Spotify(auth_manager=auth_manager)"
   ]
  },
  {
   "cell_type": "code",
   "execution_count": null,
   "metadata": {},
   "outputs": [],
   "source": [
    "playlist_link = 'https://open.spotify.com/playlist/3q99oCvea638VTFr9jFnm5?si=404c04e63de445bb'\n",
    "\n",
    "download_path = 'downloads'\n",
    "\n",
    "model = 'htdemucs' # Options: 'htdemucs' 'htdemucs_ft' 'htdemucs_6s'\n",
    "\n",
    "duration_threshold = 8\n",
    "\n",
    "limit = 30"
   ]
  },
  {
   "cell_type": "code",
   "execution_count": null,
   "metadata": {},
   "outputs": [],
   "source": [
    "def get_sp_songs_playlist(playlist_link):    \n",
    "    playlist = sp.playlist(playlist_link)\n",
    "    sp_songs = []\n",
    "    for i in range(len(playlist['tracks']['items'])):\n",
    "        title = playlist['tracks']['items'][i]['track']['name']\n",
    "        artists = [artist['name'] for artist in playlist['tracks']['items'][i]['track']['artists']]\n",
    "        duration = int(playlist['tracks']['items'][i]['track']['duration_ms']/1000)\n",
    "\n",
    "        sp_songs.append({'title': title, 'artists':artists, 'duration_seconds': duration})\n",
    "    return sp_songs\n",
    "\n",
    "def get_yt_results(sp_song, duration_threshold = duration_threshold):\n",
    "    search_song = sp_song['title']+' - ' + ', '.join(sp_song['artists']) # 'title - artist1, artist2, ...'\n",
    "    yt_results = pd.DataFrame.from_dict(yt.search(search_song, filter='songs'))\n",
    "    yt_results = yt_results.loc[:,['title', 'artists', 'duration_seconds', 'videoId']]\n",
    "    return yt_results.loc[abs(yt_results['duration_seconds'] - sp_song['duration_seconds']) < duration_threshold]\n",
    "\n",
    "def get_artist_scores(sp_song, yt_results):\n",
    "    yt_artists_list = []\n",
    "    for artist_dic in yt_results['artists']:\n",
    "        yt_artists_list.append([artist['name'] for artist in artist_dic])\n",
    "    sp_artists = sp_song['artists']\n",
    "    artist_scores = []\n",
    "    for yt_artists in yt_artists_list:\n",
    "        artist_score = 0\n",
    "        for yt_artist in yt_artists:\n",
    "            for sp_artist in sp_artists:\n",
    "                matching = SequenceMatcher(None, sp_artist.lower(), yt_artist.lower()).ratio()\n",
    "                if matching >= 0.5:\n",
    "                    artist_score += matching\n",
    "        artist_scores.append(artist_score/len(sp_artists))\n",
    "    return artist_scores"
   ]
  },
  {
   "cell_type": "code",
   "execution_count": null,
   "metadata": {},
   "outputs": [],
   "source": [
    "def convertSpotifyToYouTube(sp_songs):\n",
    "    links = []\n",
    "    for i in range(0,len(sp_songs)):\n",
    "        sp_song = sp_songs[i]\n",
    "        yt_results = get_yt_results(sp_song, duration_threshold)\n",
    "        if len(yt_results.index) > 0:\n",
    "            artist_scores = get_artist_scores(sp_song, yt_results)\n",
    "            best_result_Id = [x for _, x in sorted(zip(artist_scores, yt_results['videoId']), key=lambda pair: -pair[0])][0]\n",
    "            links.append('https://www.youtube.com/watch?v='+best_result_Id)\n",
    "        else:\n",
    "            print('cannot find good results for '+ sp_song['title'])\n",
    "    return links"
   ]
  },
  {
   "cell_type": "code",
   "execution_count": null,
   "metadata": {},
   "outputs": [],
   "source": [
    "def linkName(link, ydl_opts):\n",
    "  with YoutubeDL(ydl_opts) as ydl:\n",
    "    info_dict = ydl.extract_info(link, download = False)\n",
    "    return info_dict['title']\n",
    "\n",
    "def download_audio(link, ydl_opts):\n",
    "  with YoutubeDL(ydl_opts) as ydl:\n",
    "    ydl.download(link)    "
   ]
  },
  {
   "cell_type": "code",
   "execution_count": null,
   "metadata": {},
   "outputs": [],
   "source": [
    "def downloadYT(playlistPath = '', links = []):\n",
    "    #Directory Create\n",
    "    if playlistPath != '':\n",
    "        if not os.path.exists(playlistPath):\n",
    "            os.makedirs(playlistPath)\n",
    "\n",
    "    #YTDownload Options\n",
    "    ydl_opts = {\n",
    "    'format': 'bestaudio/best',\n",
    "    'outtmpl': playlistPath+'/%(title)s',\n",
    "    'postprocessors': [{\n",
    "        'key': 'FFmpegExtractAudio',\n",
    "        'preferredcodec': 'mp3',\n",
    "        'preferredquality': '320',\n",
    "    }],\n",
    "    }\n",
    "\n",
    "    #Download Links\n",
    "    for link in links:\n",
    "        #Only Download what's not already downloaded\n",
    "        name = linkName(link, ydl_opts)\n",
    "        if name+'.mp3' not in os.listdir(playlistPath):\n",
    "            print(0,name)\n",
    "            download_audio(link, ydl_opts)\n",
    "        else:\n",
    "            print(1,name)\n",
    "\n",
    "def separateDirectoryDemucs(playlistPath = '', model = 'htdemucs'):\n",
    "    #Directory Create  \n",
    "    if playlistPath != '':\n",
    "        if not os.path.exists(playlistPath+'/'+model):\n",
    "            os.makedirs(playlistPath+'/'+model)\n",
    "    \n",
    "    #Demucs Separate what's not already separated\n",
    "    for file in os.listdir(playlistPath):\n",
    "        if os.path.splitext(file)[1] == '.mp3':\n",
    "            if os.path.splitext(file)[0] not in os.listdir(playlistPath+'/'+model):\n",
    "                demucs_params = '--mp3' +  (' \"%s\"' % (playlistPath+'/'+file)) + (' -o \"%s\"' % playlistPath) + (' -n ' + model)\n",
    "                demucs.separate.main(shlex.split(demucs_params))\n",
    "            else:\n",
    "                print(1,file)"
   ]
  },
  {
   "cell_type": "code",
   "execution_count": null,
   "metadata": {},
   "outputs": [],
   "source": [
    "sp_songs = get_sp_songs_playlist(playlist_link)\n",
    "links = convertSpotifyToYouTube(sp_songs)\n",
    "links"
   ]
  },
  {
   "cell_type": "code",
   "execution_count": null,
   "metadata": {},
   "outputs": [],
   "source": [
    "# downloadYT(download_path, links)\n",
    "# separateDirectoryDemucs(download_path, model)"
   ]
  }
 ],
 "metadata": {
  "kernelspec": {
   "display_name": "Python 3",
   "language": "python",
   "name": "python3"
  },
  "language_info": {
   "codemirror_mode": {
    "name": "ipython",
    "version": 3
   },
   "file_extension": ".py",
   "mimetype": "text/x-python",
   "name": "python",
   "nbconvert_exporter": "python",
   "pygments_lexer": "ipython3",
   "version": "3.11.5"
  },
  "orig_nbformat": 4
 },
 "nbformat": 4,
 "nbformat_minor": 2
}
